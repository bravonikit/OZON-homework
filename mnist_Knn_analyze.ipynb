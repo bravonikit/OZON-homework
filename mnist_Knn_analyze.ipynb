{
  "nbformat": 4,
  "nbformat_minor": 0,
  "metadata": {
    "colab": {
      "name": "mnist Knn analyze",
      "provenance": [],
      "collapsed_sections": []
    },
    "kernelspec": {
      "name": "python3",
      "display_name": "Python 3"
    }
  },
  "cells": [
    {
      "cell_type": "code",
      "metadata": {
        "id": "cwnTNWTVkiwJ"
      },
      "source": [
        "import matplotlib.pyplot as plt\r\n",
        "import numpy as np\r\n",
        "from sklearn.neighbors import KNeighborsClassifier\r\n",
        "\r\n",
        "from sklearn.datasets import fetch_openml\r\n",
        "mnist = fetch_openml('mnist_784')"
      ],
      "execution_count": 3,
      "outputs": []
    },
    {
      "cell_type": "code",
      "metadata": {
        "colab": {
          "base_uri": "https://localhost:8080/"
        },
        "id": "fsihn9vRkuO2",
        "outputId": "bcdf8053-e777-4a33-9b4e-79fdad4ff30d"
      },
      "source": [
        "mnist.data.shape"
      ],
      "execution_count": null,
      "outputs": [
        {
          "output_type": "execute_result",
          "data": {
            "text/plain": [
              "(70000, 784)"
            ]
          },
          "metadata": {
            "tags": []
          },
          "execution_count": 3
        }
      ]
    },
    {
      "cell_type": "code",
      "metadata": {
        "colab": {
          "base_uri": "https://localhost:8080/"
        },
        "id": "daRdJAWCk5IN",
        "outputId": "a8ffea23-e01b-4616-d648-369cb85d99dc"
      },
      "source": [
        "mnist.target.shape"
      ],
      "execution_count": null,
      "outputs": [
        {
          "output_type": "execute_result",
          "data": {
            "text/plain": [
              "(70000,)"
            ]
          },
          "metadata": {
            "tags": []
          },
          "execution_count": 4
        }
      ]
    },
    {
      "cell_type": "code",
      "metadata": {
        "id": "RxRDpDHe8tbA"
      },
      "source": [
        "X, y = mnist.data , mnist.target\r\n",
        "X_train, X_test , y_train, y_test = mnist.data[:60000] , mnist.data[60000:] ,mnist.target[:60000] , mnist.target[60000:]"
      ],
      "execution_count": 4,
      "outputs": []
    },
    {
      "cell_type": "code",
      "metadata": {
        "id": "yqqOAf9olBTN"
      },
      "source": [
        "a = []\r\n",
        "for i in range(1,11):\r\n",
        "    neigh = KNeighborsClassifier(n_neighbors=i)\r\n",
        "    X_train, X_test , y_train, y_test = mnist.data[:60000] , mnist.data[60000:] ,mnist.target[:60000] , mnist.target[60000:]\r\n",
        "    neigh.fit(X_train, y_train)\r\n",
        "    neigh.score(X_test, y_test)\r\n",
        "    a.append(neigh.score(X_test, y_test))"
      ],
      "execution_count": null,
      "outputs": []
    },
    {
      "cell_type": "code",
      "metadata": {
        "id": "sjf3VYJMpSEe"
      },
      "source": [
        "b = []\r\n",
        "for i in range(1,11):\r\n",
        "    neigh = KNeighborsClassifier(n_neighbors=i , metric='cosine')\r\n",
        "    X_train, X_test , y_train, y_test = mnist.data[:60000] , mnist.data[60000:] ,mnist.target[:60000] , mnist.target[60000:]\r\n",
        "    neigh.fit(X_train, y_train)\r\n",
        "    neigh.score(X_test, y_test)\r\n",
        "    b.append(neigh.score(X_test, y_test))"
      ],
      "execution_count": null,
      "outputs": []
    },
    {
      "cell_type": "code",
      "metadata": {
        "colab": {
          "base_uri": "https://localhost:8080/"
        },
        "id": "b0PaxB4nrfnV",
        "outputId": "01a4bae2-d13e-4f41-806b-b801448c8602"
      },
      "source": [
        "print(a, b)"
      ],
      "execution_count": null,
      "outputs": [
        {
          "output_type": "stream",
          "text": [
            "[0.9691, 0.9627, 0.9705, 0.9682, 0.9688, 0.9677, 0.9694, 0.967, 0.9659, 0.9665] [0.9723, 0.968, 0.9733, 0.9736, 0.973, 0.9726, 0.9727, 0.9731, 0.9717, 0.9708]\n"
          ],
          "name": "stdout"
        }
      ]
    },
    {
      "cell_type": "code",
      "metadata": {
        "colab": {
          "base_uri": "https://localhost:8080/",
          "height": 283
        },
        "id": "hcI4lH3sSVhq",
        "outputId": "2a8eddcd-4340-45e1-f3a6-850bbb5583ed"
      },
      "source": [
        "\r\n",
        "plt.plot(a, color= 'red')\r\n",
        "plt.plot(b , color = 'blue')\r\n",
        "plt.ylim(0.95,0.98)\r\n",
        "plt.xlim(0,9)\r\n",
        "plt.hlines(np.max(a) , 0 , 9 , linestyle = '--', color = 'red')\r\n",
        "plt.hlines(np.mean(a) , 0 , 9 , linestyle = ':', color = 'red')\r\n",
        "plt.hlines(np.max(b) , 0 , 9 , linestyle = '--', color = 'aqua')\r\n",
        "plt.hlines(np.mean(b) , 0 , 9 , linestyle = ':', color = 'aqua')\r\n",
        "plt.xlabel('k-neighbors - 1')\r\n",
        "plt.ylabel('score')\r\n",
        "plt.legend('best', loc='lower right')\r\n",
        "plt.show()"
      ],
      "execution_count": null,
      "outputs": [
        {
          "output_type": "display_data",
          "data": {
            "image/png": "[encoded data removed]",
            "text/plain": [
              "<Figure size 432x288 with 1 Axes>"
            ]
          },
          "metadata": {
            "tags": [],
            "needs_background": "light"
          }
        }
      ]
    },
    {
      "cell_type": "code",
      "metadata": {
        "colab": {
          "base_uri": "https://localhost:8080/",
          "height": 282
        },
        "id": "CScF3gUQTFAK",
        "outputId": "39889974-e7f6-4a95-b57b-28e523380c4c"
      },
      "source": [
        "c = []\r\n",
        "for i in range(len(a)):\r\n",
        "   c.append(b[i] - a[i])\r\n",
        "\r\n",
        "plt.plot(c)"
      ],
      "execution_count": null,
      "outputs": [
        {
          "output_type": "execute_result",
          "data": {
            "text/plain": [
              "[<matplotlib.lines.Line2D at 0x7f4036fcaa20>]"
            ]
          },
          "metadata": {
            "tags": []
          },
          "execution_count": 22
        },
        {
          "output_type": "display_data",
          "data": {
            "image/png": "[encoded data removed]",
            "text/plain": [
              "<Figure size 432x288 with 1 Axes>"
            ]
          },
          "metadata": {
            "tags": [],
            "needs_background": "light"
          }
        }
      ]
    },
    {
      "cell_type": "code",
      "metadata": {
        "colab": {
          "base_uri": "https://localhost:8080/"
        },
        "id": "y4jjHd1fVXmw",
        "outputId": "62cb9e36-25ec-4910-e933-2e640a98bf48"
      },
      "source": [
        "np.argmax(b)"
      ],
      "execution_count": null,
      "outputs": [
        {
          "output_type": "execute_result",
          "data": {
            "text/plain": [
              "4"
            ]
          },
          "metadata": {
            "tags": []
          },
          "execution_count": 29
        }
      ]
    },
    {
      "cell_type": "code",
      "metadata": {
        "colab": {
          "base_uri": "https://localhost:8080/"
        },
        "id": "STdjsMMLVaPY",
        "outputId": "112c1240-22b6-46d5-8553-c1e22de8b3c4"
      },
      "source": [
        "neigh = KNeighborsClassifier(n_neighbors=np.argmax(b), metric= 'cosine')\r\n",
        "X_train, X_test , y_train, y_test = mnist.data[:60000] , mnist.data[60000:] ,mnist.target[:60000] , mnist.target[60000:]\r\n",
        "neigh.fit(X_train, y_train)\r\n",
        "neigh.score(X_test, y_test)\r\n"
      ],
      "execution_count": null,
      "outputs": [
        {
          "output_type": "execute_result",
          "data": {
            "text/plain": [
              "0.9733"
            ]
          },
          "metadata": {
            "tags": []
          },
          "execution_count": 38
        }
      ]
    },
    {
      "cell_type": "markdown",
      "metadata": {
        "id": "UmeC0tCivi8l"
      },
      "source": [
        "введем взвешивание по дистанции"
      ]
    },
    {
      "cell_type": "code",
      "metadata": {
        "colab": {
          "base_uri": "https://localhost:8080/"
        },
        "id": "_v80lZjjvSlM",
        "outputId": "f1dee379-87a3-44d7-81fc-151a6069e974"
      },
      "source": [
        "neigh = KNeighborsClassifier(n_neighbors=np.argmax(b), metric= 'cosine' , weights = 'distance')\r\n",
        "X_train, X_test , y_train, y_test = mnist.data[:60000] , mnist.data[60000:] ,mnist.target[:60000] , mnist.target[60000:]\r\n",
        "neigh.fit(X_train, y_train)\r\n",
        "neigh.score(X_test, y_test)\r\n"
      ],
      "execution_count": null,
      "outputs": [
        {
          "output_type": "execute_result",
          "data": {
            "text/plain": [
              "0.9742"
            ]
          },
          "metadata": {
            "tags": []
          },
          "execution_count": 40
        }
      ]
    },
    {
      "cell_type": "code",
      "metadata": {
        "id": "viep04N7U-HS"
      },
      "source": [
        "b_dist = []\r\n",
        "for i in range(2,6):\r\n",
        "    neigh = KNeighborsClassifier(n_neighbors=i , metric='cosine', weights = 'distance')\r\n",
        "    X_train, X_test , y_train, y_test = mnist.data[:60000] , mnist.data[60000:] ,mnist.target[:60000] , mnist.target[60000:]\r\n",
        "    neigh.fit(X_train, y_train)\r\n",
        "    neigh.score(X_test, y_test)\r\n",
        "    b_dist.append(neigh.score(X_test, y_test))"
      ],
      "execution_count": null,
      "outputs": []
    },
    {
      "cell_type": "code",
      "metadata": {
        "colab": {
          "base_uri": "https://localhost:8080/"
        },
        "id": "I7Z6twnniKv-",
        "outputId": "e0dd4443-2c76-419a-e0d5-ab0dcd4de63f"
      },
      "source": [
        "b_dist"
      ],
      "execution_count": null,
      "outputs": [
        {
          "output_type": "execute_result",
          "data": {
            "text/plain": [
              "[0.9723, 0.9742, 0.9752, 0.9738]"
            ]
          },
          "metadata": {
            "tags": []
          },
          "execution_count": 42
        }
      ]
    },
    {
      "cell_type": "code",
      "metadata": {
        "colab": {
          "base_uri": "https://localhost:8080/"
        },
        "id": "bFDuvVyQwnXS",
        "outputId": "07cba68f-bd62-47d3-fc5a-760289603614"
      },
      "source": [
        "np.max(b_dist)"
      ],
      "execution_count": null,
      "outputs": [
        {
          "output_type": "execute_result",
          "data": {
            "text/plain": [
              "0.9752"
            ]
          },
          "metadata": {
            "tags": []
          },
          "execution_count": 43
        }
      ]
    },
    {
      "cell_type": "code",
      "metadata": {
        "id": "DC6n3RWawsXC"
      },
      "source": [
        "a_dist = []\r\n",
        "for i in range(2,6):\r\n",
        "    neigh = KNeighborsClassifier(n_neighbors=i , weights = 'distance')\r\n",
        "    X_train, X_test , y_train, y_test = mnist.data[:60000] , mnist.data[60000:] ,mnist.target[:60000] , mnist.target[60000:]\r\n",
        "    neigh.fit(X_train, y_train)\r\n",
        "    neigh.score(X_test, y_test)\r\n",
        "    a_dist.append(neigh.score(X_test, y_test))"
      ],
      "execution_count": null,
      "outputs": []
    },
    {
      "cell_type": "code",
      "metadata": {
        "colab": {
          "base_uri": "https://localhost:8080/"
        },
        "id": "AbYg3Ylx0fTq",
        "outputId": "0162ba01-ba34-4c26-f8ee-308d8b21f477"
      },
      "source": [
        "a_dist"
      ],
      "execution_count": null,
      "outputs": [
        {
          "output_type": "execute_result",
          "data": {
            "text/plain": [
              "[0.9691, 0.9717, 0.9714, 0.9691]"
            ]
          },
          "metadata": {
            "tags": []
          },
          "execution_count": 50
        }
      ]
    },
    {
      "cell_type": "code",
      "metadata": {
        "colab": {
          "base_uri": "https://localhost:8080/",
          "height": 283
        },
        "id": "qD0R_yryXFeA",
        "outputId": "8adb0e1d-6538-4931-b0b4-2bbeae46bbdc"
      },
      "source": [
        "plt.plot(a_dist, color= 'red')\r\n",
        "plt.plot(b_dist , color = 'blue')\r\n",
        "plt.ylim(0.95,0.98)\r\n",
        "plt.xlim(0,3)\r\n",
        "plt.hlines(np.max(a_dist) , 0 , 3, linestyle = '--', color = 'red')\r\n",
        "plt.hlines(np.mean(a_dist) , 0 , 3 , linestyle = ':', color = 'red')\r\n",
        "plt.hlines(np.max(b_dist) , 0 ,3 , linestyle = '--', color = 'aqua')\r\n",
        "plt.hlines(np.mean(b_dist) , 0 , 3 , linestyle = ':', color = 'aqua')\r\n",
        "plt.xlabel('k-neighbors - 2')\r\n",
        "plt.ylabel('score')\r\n",
        "plt.legend('best', loc='lower right')\r\n",
        "plt.show()"
      ],
      "execution_count": null,
      "outputs": [
        {
          "output_type": "display_data",
          "data": {
            "image/png": "[encoded data removed]",
            "text/plain": [
              "<Figure size 432x288 with 1 Axes>"
            ]
          },
          "metadata": {
            "tags": [],
            "needs_background": "light"
          }
        }
      ]
    },
    {
      "cell_type": "code",
      "metadata": {
        "colab": {
          "base_uri": "https://localhost:8080/"
        },
        "id": "WNjs6jDzWSrY",
        "outputId": "a92eec31-ffa2-4c84-a52d-0dfa4693f0ce"
      },
      "source": [
        "np.max(a), np.max(b),np.max(a_dist),np.max(b_dist)"
      ],
      "execution_count": null,
      "outputs": [
        {
          "output_type": "execute_result",
          "data": {
            "text/plain": [
              "(0.9705, 0.9736, 0.9717, 0.9752)"
            ]
          },
          "metadata": {
            "tags": []
          },
          "execution_count": 47
        }
      ]
    },
    {
      "cell_type": "code",
      "metadata": {
        "colab": {
          "base_uri": "https://localhost:8080/"
        },
        "id": "bO4vF2RfWvXY",
        "outputId": "13f1c08a-55bc-42bf-d8ed-81ca8c4d1ef8"
      },
      "source": [
        "np.argmax(a)+1, np.argmax(b)+1,np.argmax(a_dist)+2,np.argmax(b_dist)+2"
      ],
      "execution_count": null,
      "outputs": [
        {
          "output_type": "execute_result",
          "data": {
            "text/plain": [
              "(3, 4, 3, 4)"
            ]
          },
          "metadata": {
            "tags": []
          },
          "execution_count": 49
        }
      ]
    },
    {
      "cell_type": "markdown",
      "metadata": {
        "id": "QuXcoCTXXfx1"
      },
      "source": [
        "Лучшая метрика имеет параметры 3\\4 соседа, выберем 3 как хоооший тон КНН, косинусное расстояние, нормированное по дистанции"
      ]
    },
    {
      "cell_type": "code",
      "metadata": {
        "colab": {
          "base_uri": "https://localhost:8080/"
        },
        "id": "k45dMVjPW69R",
        "outputId": "dbb36bf7-5e4b-4232-ffbf-276094262564"
      },
      "source": [
        "neigh = KNeighborsClassifier(n_neighbors=3 , metric='cosine', weights = 'distance')\r\n",
        "neigh.fit(X_train, y_train)\r\n",
        "neigh.score(X_test, y_test)\r\n"
      ],
      "execution_count": 25,
      "outputs": [
        {
          "output_type": "execute_result",
          "data": {
            "text/plain": [
              "0.9742"
            ]
          },
          "metadata": {
            "tags": []
          },
          "execution_count": 25
        }
      ]
    },
    {
      "cell_type": "code",
      "metadata": {
        "colab": {
          "base_uri": "https://localhost:8080/",
          "height": 316
        },
        "id": "7bAhH089B-ZL",
        "outputId": "70591691-2dc2-4831-f443-e166b1b04d15"
      },
      "source": [
        "(np.where(neigh.predict(X_test) != y_test))\r\n",
        "\r\n",
        "import random\r\n",
        "smpl = random.sample(np.where(neigh.predict(X_test) != y_test) , 5)"
      ],
      "execution_count": 64,
      "outputs": [
        {
          "output_type": "error",
          "ename": "ValueError",
          "evalue": "ignored",
          "traceback": [
            "\u001b[0;31m---------------------------------------------------------------------------\u001b[0m",
            "\u001b[0;31mValueError\u001b[0m                                Traceback (most recent call last)",
            "\u001b[0;32m<ipython-input-64-d9b975f13db2>\u001b[0m in \u001b[0;36m<module>\u001b[0;34m()\u001b[0m\n\u001b[1;32m      2\u001b[0m \u001b[0;34m\u001b[0m\u001b[0m\n\u001b[1;32m      3\u001b[0m \u001b[0;32mimport\u001b[0m \u001b[0mrandom\u001b[0m\u001b[0;34m\u001b[0m\u001b[0;34m\u001b[0m\u001b[0m\n\u001b[0;32m----> 4\u001b[0;31m \u001b[0msmpl\u001b[0m \u001b[0;34m=\u001b[0m \u001b[0mrandom\u001b[0m\u001b[0;34m.\u001b[0m\u001b[0msample\u001b[0m\u001b[0;34m(\u001b[0m\u001b[0mnp\u001b[0m\u001b[0;34m.\u001b[0m\u001b[0mwhere\u001b[0m\u001b[0;34m(\u001b[0m\u001b[0mneigh\u001b[0m\u001b[0;34m.\u001b[0m\u001b[0mpredict\u001b[0m\u001b[0;34m(\u001b[0m\u001b[0mX_test\u001b[0m\u001b[0;34m)\u001b[0m \u001b[0;34m!=\u001b[0m \u001b[0my_test\u001b[0m\u001b[0;34m)\u001b[0m \u001b[0;34m,\u001b[0m \u001b[0;36m5\u001b[0m\u001b[0;34m)\u001b[0m\u001b[0;34m\u001b[0m\u001b[0;34m\u001b[0m\u001b[0m\n\u001b[0m",
            "\u001b[0;32m/usr/lib/python3.6/random.py\u001b[0m in \u001b[0;36msample\u001b[0;34m(self, population, k)\u001b[0m\n\u001b[1;32m    318\u001b[0m         \u001b[0mn\u001b[0m \u001b[0;34m=\u001b[0m \u001b[0mlen\u001b[0m\u001b[0;34m(\u001b[0m\u001b[0mpopulation\u001b[0m\u001b[0;34m)\u001b[0m\u001b[0;34m\u001b[0m\u001b[0;34m\u001b[0m\u001b[0m\n\u001b[1;32m    319\u001b[0m         \u001b[0;32mif\u001b[0m \u001b[0;32mnot\u001b[0m \u001b[0;36m0\u001b[0m \u001b[0;34m<=\u001b[0m \u001b[0mk\u001b[0m \u001b[0;34m<=\u001b[0m \u001b[0mn\u001b[0m\u001b[0;34m:\u001b[0m\u001b[0;34m\u001b[0m\u001b[0;34m\u001b[0m\u001b[0m\n\u001b[0;32m--> 320\u001b[0;31m             \u001b[0;32mraise\u001b[0m \u001b[0mValueError\u001b[0m\u001b[0;34m(\u001b[0m\u001b[0;34m\"Sample larger than population or is negative\"\u001b[0m\u001b[0;34m)\u001b[0m\u001b[0;34m\u001b[0m\u001b[0;34m\u001b[0m\u001b[0m\n\u001b[0m\u001b[1;32m    321\u001b[0m         \u001b[0mresult\u001b[0m \u001b[0;34m=\u001b[0m \u001b[0;34m[\u001b[0m\u001b[0;32mNone\u001b[0m\u001b[0;34m]\u001b[0m \u001b[0;34m*\u001b[0m \u001b[0mk\u001b[0m\u001b[0;34m\u001b[0m\u001b[0;34m\u001b[0m\u001b[0m\n\u001b[1;32m    322\u001b[0m         \u001b[0msetsize\u001b[0m \u001b[0;34m=\u001b[0m \u001b[0;36m21\u001b[0m        \u001b[0;31m# size of a small set minus size of an empty list\u001b[0m\u001b[0;34m\u001b[0m\u001b[0;34m\u001b[0m\u001b[0m\n",
            "\u001b[0;31mValueError\u001b[0m: Sample larger than population or is negative"
          ]
        }
      ]
    },
    {
      "cell_type": "markdown",
      "metadata": {
        "id": "HGikXNX3ZVAm"
      },
      "source": [
        "посомтрим примеры ошибок"
      ]
    },
    {
      "cell_type": "code",
      "metadata": {
        "id": "e1d-tA3jX9MB",
        "colab": {
          "base_uri": "https://localhost:8080/",
          "height": 1000
        },
        "outputId": "8c216652-1ae7-490c-a1bb-8676d5be3ba8"
      },
      "source": [
        "for item in smpl:\r\n",
        "  plt.imshow(np.reshape(X_test[item], (28,28)), cmap ='gray')\r\n",
        "  plt.axis(\"off\")\r\n",
        "  print(y_test[item])\r\n",
        "  print(neigh.predict(X_test)[item])\r\n",
        "  plt.show()"
      ],
      "execution_count": 57,
      "outputs": [
        {
          "output_type": "stream",
          "text": [
            "4\n",
            "9\n"
          ],
          "name": "stdout"
        },
        {
          "output_type": "display_data",
          "data": {
            "image/png": "[encoded data removed]",
            "text/plain": [
              "<Figure size 432x288 with 1 Axes>"
            ]
          },
          "metadata": {
            "tags": [],
            "needs_background": "light"
          }
        },
        {
          "output_type": "stream",
          "text": [
            "9\n",
            "8\n"
          ],
          "name": "stdout"
        },
        {
          "output_type": "display_data",
          "data": {
            "image/png": "[encoded data removed]",
            "text/plain": [
              "<Figure size 432x288 with 1 Axes>"
            ]
          },
          "metadata": {
            "tags": [],
            "needs_background": "light"
          }
        },
        {
          "output_type": "stream",
          "text": [
            "4\n",
            "6\n"
          ],
          "name": "stdout"
        },
        {
          "output_type": "display_data",
          "data": {
            "image/png": "[encoded data removed]",
            "text/plain": [
              "<Figure size 432x288 with 1 Axes>"
            ]
          },
          "metadata": {
            "tags": [],
            "needs_background": "light"
          }
        },
        {
          "output_type": "stream",
          "text": [
            "8\n",
            "1\n"
          ],
          "name": "stdout"
        },
        {
          "output_type": "display_data",
          "data": {
            "image/png": "[encoded data removed]",
            "text/plain": [
              "<Figure size 432x288 with 1 Axes>"
            ]
          },
          "metadata": {
            "tags": [],
            "needs_background": "light"
          }
        },
        {
          "output_type": "stream",
          "text": [
            "8\n",
            "3\n"
          ],
          "name": "stdout"
        },
        {
          "output_type": "display_data",
          "data": {
            "image/png": "[encoded data removed]",
            "text/plain": [
              "<Figure size 432x288 with 1 Axes>"
            ]
          },
          "metadata": {
            "tags": [],
            "needs_background": "light"
          }
        },
        {
          "output_type": "stream",
          "text": [
            "9\n",
            "1\n"
          ],
          "name": "stdout"
        },
        {
          "output_type": "display_data",
          "data": {
            "image/png": "[encoded data removed]",
            "text/plain": [
              "<Figure size 432x288 with 1 Axes>"
            ]
          },
          "metadata": {
            "tags": [],
            "needs_background": "light"
          }
        },
        {
          "output_type": "stream",
          "text": [
            "2\n",
            "7\n"
          ],
          "name": "stdout"
        },
        {
          "output_type": "display_data",
          "data": {
            "image/png": "[encoded data removed]",
            "text/plain": [
              "<Figure size 432x288 with 1 Axes>"
            ]
          },
          "metadata": {
            "tags": [],
            "needs_background": "light"
          }
        },
        {
          "output_type": "stream",
          "text": [
            "7\n",
            "4\n"
          ],
          "name": "stdout"
        },
        {
          "output_type": "display_data",
          "data": {
            "image/png": "[encoded data removed]",
            "text/plain": [
              "<Figure size 432x288 with 1 Axes>"
            ]
          },
          "metadata": {
            "tags": [],
            "needs_background": "light"
          }
        },
        {
          "output_type": "stream",
          "text": [
            "6\n",
            "0\n"
          ],
          "name": "stdout"
        },
        {
          "output_type": "display_data",
          "data": {
            "image/png": "[encoded data removed]",
            "text/plain": [
              "<Figure size 432x288 with 1 Axes>"
            ]
          },
          "metadata": {
            "tags": [],
            "needs_background": "light"
          }
        },
        {
          "output_type": "stream",
          "text": [
            "9\n",
            "8\n"
          ],
          "name": "stdout"
        },
        {
          "output_type": "display_data",
          "data": {
            "image/png": "[encoded data removed]",
            "text/plain": [
              "<Figure size 432x288 with 1 Axes>"
            ]
          },
          "metadata": {
            "tags": [],
            "needs_background": "light"
          }
        },
        {
          "output_type": "stream",
          "text": [
            "3\n",
            "7\n"
          ],
          "name": "stdout"
        },
        {
          "output_type": "display_data",
          "data": {
            "image/png": "[encoded data removed]",
            "text/plain": [
              "<Figure size 432x288 with 1 Axes>"
            ]
          },
          "metadata": {
            "tags": [],
            "needs_background": "light"
          }
        }
      ]
    },
    {
      "cell_type": "code",
      "metadata": {
        "colab": {
          "base_uri": "https://localhost:8080/"
        },
        "id": "vuv11J6K8G6-",
        "outputId": "df9b768d-5d0f-46b1-dc2a-ee8e55bee9ed"
      },
      "source": [
        "from sklearn.metrics import confusion_matrix\r\n",
        "confusion_matrix(y_test, neigh.predict(X_test))"
      ],
      "execution_count": 65,
      "outputs": [
        {
          "output_type": "execute_result",
          "data": {
            "text/plain": [
              "array([[ 977,    1,    0,    0,    0,    0,    1,    1,    0,    0],\n",
              "       [   0, 1130,    3,    1,    0,    0,    1,    0,    0,    0],\n",
              "       [   8,    1, 1009,    1,    1,    0,    0,    8,    4,    0],\n",
              "       [   0,    1,    3,  975,    0,   13,    0,    5,    7,    6],\n",
              "       [   2,    2,    0,    0,  946,    0,    6,    1,    1,   24],\n",
              "       [   4,    0,    0,    9,    1,  859,    7,    1,    6,    5],\n",
              "       [   4,    2,    0,    0,    2,    3,  947,    0,    0,    0],\n",
              "       [   1,   10,    6,    0,    1,    0,    0,  996,    0,   14],\n",
              "       [   6,    2,    2,   10,    4,    4,    4,    3,  936,    3],\n",
              "       [   8,    7,    2,    5,    7,    3,    1,    6,    3,  967]])"
            ]
          },
          "metadata": {
            "tags": []
          },
          "execution_count": 65
        }
      ]
    },
    {
      "cell_type": "code",
      "metadata": {
        "id": "3XwKfsl00T92"
      },
      "source": [
        ""
      ],
      "execution_count": null,
      "outputs": []
    }
  ]
}