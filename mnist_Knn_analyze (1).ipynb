{
  "nbformat": 4,
  "nbformat_minor": 0,
  "metadata": {
    "colab": {
      "name": "mnist Knn analyze",
      "provenance": [],
      "collapsed_sections": []
    },
    "kernelspec": {
      "display_name": "Python 3",
      "name": "python3"
    }
  },
  "cells": [
    {
      "cell_type": "code",
      "metadata": {
        "id": "cwnTNWTVkiwJ"
      },
      "source": [
        "import matplotlib.pyplot as plt\r\n",
        "import numpy as np\r\n",
        "from sklearn.neighbors import KNeighborsClassifier\r\n",
        "\r\n",
        "from sklearn.datasets import fetch_openml\r\n",
        "mnist = fetch_openml('mnist_784')"
      ],
      "execution_count": 2,
      "outputs": []
    },
    {
      "cell_type": "code",
      "metadata": {
        "colab": {
          "base_uri": "https://localhost:8080/"
        },
        "id": "fsihn9vRkuO2",
        "outputId": "46fde028-0afe-48bd-ab35-cc4b1fdc661c"
      },
      "source": [
        "mnist.data.shape"
      ],
      "execution_count": null,
      "outputs": [
        {
          "output_type": "execute_result",
          "data": {
            "text/plain": [
              "(70000, 784)"
            ]
          },
          "metadata": {
            "tags": []
          },
          "execution_count": 3
        }
      ]
    },
    {
      "cell_type": "code",
      "metadata": {
        "colab": {
          "base_uri": "https://localhost:8080/"
        },
        "id": "daRdJAWCk5IN",
        "outputId": "d09578f3-1d2a-4524-d5dc-618b19adb41e"
      },
      "source": [
        "mnist.target.shape"
      ],
      "execution_count": null,
      "outputs": [
        {
          "output_type": "execute_result",
          "data": {
            "text/plain": [
              "(70000,)"
            ]
          },
          "metadata": {
            "tags": []
          },
          "execution_count": 4
        }
      ]
    },
    {
      "cell_type": "code",
      "metadata": {
        "id": "RxRDpDHe8tbA"
      },
      "source": [
        "X, y = mnist.data , mnist.target\r\n",
        "X_train, X_test , y_train, y_test = mnist.data[:60000] , mnist.data[60000:] ,mnist.target[:60000] , mnist.target[60000:]"
      ],
      "execution_count": 4,
      "outputs": []
    },
    {
      "cell_type": "code",
      "metadata": {
        "id": "yqqOAf9olBTN"
      },
      "source": [
        "a = []\r\n",
        "for i in range(1,11):\r\n",
        "    neigh = KNeighborsClassifier(n_neighbors=i)\r\n",
        "    neigh.fit(X_train, y_train)\r\n",
        "    neigh.score(X_test, y_test)\r\n",
        "    a.append(neigh.score(X_test, y_test))"
      ],
      "execution_count": null,
      "outputs": []
    },
    {
      "cell_type": "code",
      "metadata": {
        "id": "sjf3VYJMpSEe"
      },
      "source": [
        "b = []\r\n",
        "for i in range(1,11):\r\n",
        "    neigh = KNeighborsClassifier(n_neighbors=i , metric='cosine')\r\n",
        "    neigh.fit(X_train, y_train)\r\n",
        "    neigh.score(X_test, y_test)\r\n",
        "    b.append(neigh.score(X_test, y_test))"
      ],
      "execution_count": null,
      "outputs": []
    },
    {
      "cell_type": "markdown",
      "metadata": {
        "id": "OxB_aVFXZsia"
      },
      "source": [
        "Построим результыты на графике"
      ]
    },
    {
      "cell_type": "code",
      "metadata": {
        "colab": {
          "base_uri": "https://localhost:8080/",
          "height": 283
        },
        "id": "hcI4lH3sSVhq",
        "outputId": "3c64c51b-af9f-4de3-cf80-099aeb562352"
      },
      "source": [
        "plt.plot(a, color= 'red')\r\n",
        "plt.plot(b , color = 'blue')\r\n",
        "plt.ylim(0.96,0.98)\r\n",
        "plt.xlim(0,9)\r\n",
        "plt.hlines(np.max(a) , 0 , 9 , linestyle = '--', color = 'red')\r\n",
        "plt.hlines(np.mean(a) , 0 , 9 , linestyle = ':', color = 'red')\r\n",
        "plt.hlines(np.max(b) , 0 , 9 , linestyle = '--', color = 'aqua')\r\n",
        "plt.hlines(np.mean(b) , 0 , 9 , linestyle = ':', color = 'aqua')\r\n",
        "plt.xlabel('k-neighbors - 1')\r\n",
        "plt.ylabel('score')\r\n",
        "plt.show()"
      ],
      "execution_count": null,
      "outputs": [
        {
          "output_type": "display_data",
          "data": {
            "image/png": "[encoded data removed]",
            "text/plain": [
              "<Figure size 432x288 with 1 Axes>"
            ]
          },
          "metadata": {
            "tags": []
          }
        }
      ]
    },
    {
      "cell_type": "code",
      "metadata": {
        "colab": {
          "base_uri": "https://localhost:8080/"
        },
        "id": "STdjsMMLVaPY",
        "outputId": "0ea953bc-9f19-4f7d-99c1-74805853e201"
      },
      "source": [
        "neigh = KNeighborsClassifier(n_neighbors=np.argmax(b), metric= 'cosine')\r\n",
        "X_train, X_test , y_train, y_test = mnist.data[:60000] , mnist.data[60000:] ,mnist.target[:60000] , mnist.target[60000:]\r\n",
        "neigh.fit(X_train, y_train)\r\n",
        "neigh.score(X_test, y_test)\r\n"
      ],
      "execution_count": null,
      "outputs": [
        {
          "output_type": "execute_result",
          "data": {
            "text/plain": [
              "0.9733"
            ]
          },
          "metadata": {
            "tags": []
          },
          "execution_count": 7
        }
      ]
    },
    {
      "cell_type": "markdown",
      "metadata": {
        "id": "UmeC0tCivi8l"
      },
      "source": [
        "введем взвешивание по дистанции в диапазоне от 2ух до 6ти ближайших соседней, так как хорошо видно что  при увеличении k падает точность модели\r\n",
        "\r\n"
      ]
    },
    {
      "cell_type": "code",
      "metadata": {
        "colab": {
          "base_uri": "https://localhost:8080/"
        },
        "id": "_v80lZjjvSlM",
        "outputId": "e9785c20-5566-4bf1-ded0-91e93c0d2c43"
      },
      "source": [
        "neigh = KNeighborsClassifier(n_neighbors=np.argmax(b), metric= 'cosine' , weights = 'distance')\r\n",
        "X_train, X_test , y_train, y_test = mnist.data[:60000] , mnist.data[60000:] ,mnist.target[:60000] , mnist.target[60000:]\r\n",
        "neigh.fit(X_train, y_train)\r\n",
        "neigh.score(X_test, y_test)\r\n"
      ],
      "execution_count": null,
      "outputs": [
        {
          "output_type": "execute_result",
          "data": {
            "text/plain": [
              "0.9742"
            ]
          },
          "metadata": {
            "tags": []
          },
          "execution_count": 8
        }
      ]
    },
    {
      "cell_type": "code",
      "metadata": {
        "id": "viep04N7U-HS"
      },
      "source": [
        "b_dist = []\r\n",
        "for i in range(2,6):\r\n",
        "    neigh = KNeighborsClassifier(n_neighbors=i , metric='cosine', weights = 'distance')\r\n",
        "    X_train, X_test , y_train, y_test = mnist.data[:60000] , mnist.data[60000:] ,mnist.target[:60000] , mnist.target[60000:]\r\n",
        "    neigh.fit(X_train, y_train)\r\n",
        "    neigh.score(X_test, y_test)\r\n",
        "    b_dist.append(neigh.score(X_test, y_test))"
      ],
      "execution_count": 5,
      "outputs": []
    },
    {
      "cell_type": "code",
      "metadata": {
        "colab": {
          "base_uri": "https://localhost:8080/"
        },
        "id": "bFDuvVyQwnXS",
        "outputId": "574b5f1b-d750-4dfc-daac-2c71276a460c"
      },
      "source": [
        "np.max(b_dist)"
      ],
      "execution_count": 6,
      "outputs": [
        {
          "output_type": "execute_result",
          "data": {
            "text/plain": [
              "0.9752"
            ]
          },
          "metadata": {
            "tags": []
          },
          "execution_count": 6
        }
      ]
    },
    {
      "cell_type": "code",
      "metadata": {
        "id": "DC6n3RWawsXC"
      },
      "source": [
        "a_dist = []\r\n",
        "for i in range(2,6):\r\n",
        "    neigh = KNeighborsClassifier(n_neighbors=i , weights = 'distance')\r\n",
        "    X_train, X_test , y_train, y_test = mnist.data[:60000] , mnist.data[60000:] ,mnist.target[:60000] , mnist.target[60000:]\r\n",
        "    neigh.fit(X_train, y_train)\r\n",
        "    neigh.score(X_test, y_test)\r\n",
        "    a_dist.append(neigh.score(X_test, y_test))"
      ],
      "execution_count": 4,
      "outputs": []
    },
    {
      "cell_type": "code",
      "metadata": {
        "id": "7OU1o1HAByBS"
      },
      "source": [
        ""
      ],
      "execution_count": null,
      "outputs": []
    },
    {
      "cell_type": "code",
      "metadata": {
        "colab": {
          "base_uri": "https://localhost:8080/",
          "height": 283
        },
        "id": "qD0R_yryXFeA",
        "outputId": "4ba88c5e-3da8-445b-9408-955011722259"
      },
      "source": [
        "plt.plot(a_dist, color= 'red')\r\n",
        "plt.plot(b_dist , color = 'blue')\r\n",
        "plt.ylim(0.95,0.98)\r\n",
        "plt.xlim(0,3)\r\n",
        "plt.hlines(np.max(a_dist) , 0 , 3, linestyle = '--', color = 'red')\r\n",
        "plt.hlines(np.mean(a_dist) , 0 , 3 , linestyle = ':', color = 'red')\r\n",
        "plt.hlines(np.max(b_dist) , 0 ,3 , linestyle = '--', color = 'aqua')\r\n",
        "plt.hlines(np.mean(b_dist) , 0 , 3 , linestyle = ':', color = 'aqua')\r\n",
        "plt.xlabel('k-neighbors - 2')\r\n",
        "plt.ylabel('score')\r\n",
        "plt.show()"
      ],
      "execution_count": 6,
      "outputs": [
        {
          "output_type": "display_data",
          "data": {
            "image/png": "[encoded data removed]",
            "text/plain": [
              "<Figure size 432x288 with 1 Axes>"
            ]
          },
          "metadata": {
            "tags": [],
            "needs_background": "light"
          }
        }
      ]
    },
    {
      "cell_type": "markdown",
      "metadata": {
        "id": "exRY70pYaTKS"
      },
      "source": [
        "Результаты схожи с первым графиком, косинусная метрика показывает себя точно лучше при любом k, оптимальное значение К=4, но более устойчиво брать нечетное число соседей, лучший результат показывает модель при К=3, используя косунусное расстояние и мастабируя его по дистанции."
      ]
    },
    {
      "cell_type": "code",
      "metadata": {
        "id": "WNjs6jDzWSrY"
      },
      "source": [
        "np.max(a), np.max(b),np.max(a_dist),np.max(b_dist)"
      ],
      "execution_count": null,
      "outputs": []
    },
    {
      "cell_type": "code",
      "metadata": {
        "id": "bO4vF2RfWvXY"
      },
      "source": [
        "np.argmax(a)+1, np.argmax(b)+1,np.argmax(a_dist)+2,np.argmax(b_dist)+2"
      ],
      "execution_count": null,
      "outputs": []
    },
    {
      "cell_type": "markdown",
      "metadata": {
        "id": "GR89Zx85arze"
      },
      "source": [
        "Непосредственно посмотрим на модель с эти параметрами, подробнее разберем ошибки которые она допускает"
      ]
    },
    {
      "cell_type": "code",
      "metadata": {
        "id": "k45dMVjPW69R",
        "colab": {
          "base_uri": "https://localhost:8080/"
        },
        "outputId": "8b315c7f-e925-4a52-ac92-a05a41caf7d7"
      },
      "source": [
        "neigh = KNeighborsClassifier(n_neighbors=3 , metric='cosine', weights = 'distance')\r\n",
        "neigh.fit(X_train, y_train)\r\n",
        "neigh.score(X_test, y_test)\r\n"
      ],
      "execution_count": 7,
      "outputs": [
        {
          "output_type": "execute_result",
          "data": {
            "text/plain": [
              "0.9742"
            ]
          },
          "metadata": {
            "tags": []
          },
          "execution_count": 7
        }
      ]
    },
    {
      "cell_type": "code",
      "metadata": {
        "id": "7bAhH089B-ZL"
      },
      "source": [
        "wrong_answers = np.where(neigh.predict(X_test) != y_test)"
      ],
      "execution_count": 8,
      "outputs": []
    },
    {
      "cell_type": "code",
      "metadata": {
        "id": "umQ-_b0uVAqU",
        "colab": {
          "base_uri": "https://localhost:8080/"
        },
        "outputId": "2ac42e2d-83de-4e93-ef35-e2c985524777"
      },
      "source": [
        "wrong_answers"
      ],
      "execution_count": 9,
      "outputs": [
        {
          "output_type": "execute_result",
          "data": {
            "text/plain": [
              "(array([ 115,  241,  247,  257,  266,  320,  321,  358,  445,  448,  464,\n",
              "         495,  551,  571,  582,  591,  628,  707,  740,  774,  839,  881,\n",
              "         924,  938,  939,  947,  951,  956,  957, 1014, 1062, 1089, 1107,\n",
              "        1112, 1178, 1192, 1226, 1232, 1242, 1247, 1260, 1290, 1299, 1319,\n",
              "        1325, 1393, 1422, 1425, 1496, 1500, 1522, 1530, 1549, 1553, 1559,\n",
              "        1681, 1695, 1721, 1737, 1790, 1865, 1901, 1955, 1970, 1984, 2040,\n",
              "        2044, 2052, 2093, 2098, 2105, 2109, 2118, 2129, 2130, 2135, 2182,\n",
              "        2224, 2237, 2272, 2293, 2298, 2299, 2339, 2387, 2395, 2406, 2408,\n",
              "        2422, 2447, 2454, 2488, 2533, 2597, 2607, 2648, 2654, 2721, 2758,\n",
              "        2771, 2810, 2863, 2896, 2901, 2927, 2939, 2952, 2953, 3005, 3060,\n",
              "        3062, 3073, 3117, 3206, 3269, 3333, 3336, 3369, 3405, 3475, 3490,\n",
              "        3503, 3520, 3549, 3558, 3559, 3597, 3629, 3702, 3727, 3730, 3742,\n",
              "        3780, 3806, 3808, 3811, 3838, 3853, 3893, 3902, 3926, 3941, 3946,\n",
              "        3976, 3985, 4007, 4017, 4075, 4078, 4145, 4163, 4176, 4194, 4199,\n",
              "        4212, 4224, 4289, 4306, 4330, 4356, 4497, 4500, 4552, 4578, 4598,\n",
              "        4635, 4639, 4690, 4731, 4737, 4761, 4785, 4807, 4823, 4837, 4860,\n",
              "        4879, 4886, 4911, 4966, 4990, 5001, 5067, 5176, 5331, 5600, 5620,\n",
              "        5655, 5714, 5734, 5769, 5835, 5842, 5887, 5888, 5906, 5913, 5936,\n",
              "        5937, 5955, 5973, 5997, 6011, 6023, 6035, 6045, 6059, 6071, 6081,\n",
              "        6091, 6112, 6157, 6166, 6172, 6173, 6391, 6505, 6597, 7121, 7545,\n",
              "        7597, 7797, 7821, 7842, 7850, 8059, 8061, 8081, 8277, 8279, 8290,\n",
              "        8325, 8453, 8520, 8527, 9009, 9015, 9019, 9024, 9211, 9280, 9634,\n",
              "        9642, 9664, 9719, 9729, 9745, 9768, 9770, 9779, 9792, 9811, 9839,\n",
              "        9867, 9904, 9905, 9944, 9982]),)"
            ]
          },
          "metadata": {
            "tags": []
          },
          "execution_count": 9
        }
      ]
    },
    {
      "cell_type": "markdown",
      "metadata": {
        "id": "HGikXNX3ZVAm"
      },
      "source": [
        "Нарисуем некоторые цифры в которых ошибаемся"
      ]
    },
    {
      "cell_type": "code",
      "metadata": {
        "id": "e1d-tA3jX9MB",
        "colab": {
          "base_uri": "https://localhost:8080/",
          "height": 1000
        },
        "outputId": "f069f369-f4f7-4955-c17a-d81f1b7dc41f"
      },
      "source": [
        "for item in [4212, 4224, 4289, 4306, 4330, 4356, 4497, 4500, 4552, 4578, 4598]:\r\n",
        "  plt.imshow(np.reshape(X_test[item], (28,28)), cmap ='gray')\r\n",
        "  plt.axis(\"off\")\r\n",
        "  print(y_test[item])\r\n",
        "  print(neigh.predict(X_test)[item])\r\n",
        "  plt.show()"
      ],
      "execution_count": 10,
      "outputs": [
        {
          "output_type": "stream",
          "text": [
            "1\n",
            "3\n"
          ],
          "name": "stdout"
        },
        {
          "output_type": "display_data",
          "data": {
            "image/png": "[encoded data removed]",
            "text/plain": [
              "<Figure size 432x288 with 1 Axes>"
            ]
          },
          "metadata": {
            "tags": [],
            "needs_background": "light"
          }
        },
        {
          "output_type": "stream",
          "text": [
            "9\n",
            "7\n"
          ],
          "name": "stdout"
        },
        {
          "output_type": "display_data",
          "data": {
            "image/png": "[encoded data removed]",
            "text/plain": [
              "<Figure size 432x288 with 1 Axes>"
            ]
          },
          "metadata": {
            "tags": [],
            "needs_background": "light"
          }
        },
        {
          "output_type": "stream",
          "text": [
            "2\n",
            "7\n"
          ],
          "name": "stdout"
        },
        {
          "output_type": "display_data",
          "data": {
            "image/png": "[encoded data removed]",
            "text/plain": [
              "<Figure size 432x288 with 1 Axes>"
            ]
          },
          "metadata": {
            "tags": [],
            "needs_background": "light"
          }
        },
        {
          "output_type": "stream",
          "text": [
            "3\n",
            "7\n"
          ],
          "name": "stdout"
        },
        {
          "output_type": "display_data",
          "data": {
            "image/png": "[encoded data removed]",
            "text/plain": [
              "<Figure size 432x288 with 1 Axes>"
            ]
          },
          "metadata": {
            "tags": [],
            "needs_background": "light"
          }
        },
        {
          "output_type": "stream",
          "text": [
            "5\n",
            "3\n"
          ],
          "name": "stdout"
        },
        {
          "output_type": "display_data",
          "data": {
            "image/png": "[encoded data removed]",
            "text/plain": [
              "<Figure size 432x288 with 1 Axes>"
            ]
          },
          "metadata": {
            "tags": [],
            "needs_background": "light"
          }
        },
        {
          "output_type": "stream",
          "text": [
            "5\n",
            "8\n"
          ],
          "name": "stdout"
        },
        {
          "output_type": "display_data",
          "data": {
            "image/png": "[encoded data removed]",
            "text/plain": [
              "<Figure size 432x288 with 1 Axes>"
            ]
          },
          "metadata": {
            "tags": [],
            "needs_background": "light"
          }
        },
        {
          "output_type": "stream",
          "text": [
            "8\n",
            "7\n"
          ],
          "name": "stdout"
        },
        {
          "output_type": "display_data",
          "data": {
            "image/png": "[encoded data removed]",
            "text/plain": [
              "<Figure size 432x288 with 1 Axes>"
            ]
          },
          "metadata": {
            "tags": [],
            "needs_background": "light"
          }
        },
        {
          "output_type": "stream",
          "text": [
            "9\n",
            "1\n"
          ],
          "name": "stdout"
        },
        {
          "output_type": "display_data",
          "data": {
            "image/png": "[encoded data removed]",
            "text/plain": [
              "<Figure size 432x288 with 1 Axes>"
            ]
          },
          "metadata": {
            "tags": [],
            "needs_background": "light"
          }
        },
        {
          "output_type": "stream",
          "text": [
            "3\n",
            "5\n"
          ],
          "name": "stdout"
        },
        {
          "output_type": "display_data",
          "data": {
            "image/png": "[encoded data removed]",
            "text/plain": [
              "<Figure size 432x288 with 1 Axes>"
            ]
          },
          "metadata": {
            "tags": [],
            "needs_background": "light"
          }
        },
        {
          "output_type": "stream",
          "text": [
            "7\n",
            "9\n"
          ],
          "name": "stdout"
        },
        {
          "output_type": "display_data",
          "data": {
            "image/png": "[encoded data removed]",
            "text/plain": [
              "<Figure size 432x288 with 1 Axes>"
            ]
          },
          "metadata": {
            "tags": [],
            "needs_background": "light"
          }
        },
        {
          "output_type": "stream",
          "text": [
            "4\n",
            "9\n"
          ],
          "name": "stdout"
        },
        {
          "output_type": "display_data",
          "data": {
            "image/png": "[encoded data removed]",
            "text/plain": [
              "<Figure size 432x288 with 1 Axes>"
            ]
          },
          "metadata": {
            "tags": [],
            "needs_background": "light"
          }
        }
      ]
    },
    {
      "cell_type": "markdown",
      "metadata": {
        "id": "PBFUIx2FYw_n"
      },
      "source": [
        "видно что ошибки допущены в действительно сомнительных написаниях цифр, с явно не стандартным подчерком, в основном модель работает хорошо"
      ]
    },
    {
      "cell_type": "code",
      "metadata": {
        "id": "vuv11J6K8G6-",
        "colab": {
          "base_uri": "https://localhost:8080/"
        },
        "outputId": "8d3970e6-1dc4-47d8-829f-f6faa1dc1460"
      },
      "source": [
        "from sklearn.metrics import confusion_matrix\r\n",
        "confusion_matrix(y_test, neigh.predict(X_test))"
      ],
      "execution_count": 11,
      "outputs": [
        {
          "output_type": "execute_result",
          "data": {
            "text/plain": [
              "array([[ 977,    1,    0,    0,    0,    0,    1,    1,    0,    0],\n",
              "       [   0, 1130,    3,    1,    0,    0,    1,    0,    0,    0],\n",
              "       [   8,    1, 1009,    1,    1,    0,    0,    8,    4,    0],\n",
              "       [   0,    1,    3,  975,    0,   13,    0,    5,    7,    6],\n",
              "       [   2,    2,    0,    0,  946,    0,    6,    1,    1,   24],\n",
              "       [   4,    0,    0,    9,    1,  859,    7,    1,    6,    5],\n",
              "       [   4,    2,    0,    0,    2,    3,  947,    0,    0,    0],\n",
              "       [   1,   10,    6,    0,    1,    0,    0,  996,    0,   14],\n",
              "       [   6,    2,    2,   10,    4,    4,    4,    3,  936,    3],\n",
              "       [   8,    7,    2,    5,    7,    3,    1,    6,    3,  967]])"
            ]
          },
          "metadata": {
            "tags": []
          },
          "execution_count": 11
        }
      ]
    }
  ]
}